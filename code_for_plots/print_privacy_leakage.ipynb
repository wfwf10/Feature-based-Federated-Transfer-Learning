{
  "nbformat": 4,
  "nbformat_minor": 0,
  "metadata": {
    "colab": {
      "provenance": []
    },
    "kernelspec": {
      "name": "python3",
      "display_name": "Python 3"
    },
    "language_info": {
      "name": "python"
    }
  },
  "cells": [
    {
      "cell_type": "markdown",
      "source": [
        "# CIFAR-10"
      ],
      "metadata": {
        "id": "RnC64R4j-se4"
      }
    },
    {
      "cell_type": "code",
      "execution_count": null,
      "metadata": {
        "id": "Ogn9Z9JF0EHG"
      },
      "outputs": [],
      "source": [
        "import numpy as np\n",
        "import matplotlib.pyplot as plt\n",
        "import math\n",
        "from math import factorial as f\n",
        "from time import sleep\n",
        "import itertools\n",
        "import time"
      ]
    },
    {
      "cell_type": "code",
      "source": [
        "K = 8\n",
        "N = 10\n",
        "B = f(N+K-1) // f(K) // f(N-1)\n",
        "\n",
        "# calculate H(B|Y=y), y is uniform\n",
        "p_y = 0\n",
        "P_ys = []\n",
        "b_count = 0\n",
        "H_y = 0\n",
        "\n",
        "for c0 in range(0, N+K-1):\n",
        "  for c1 in range(c0+1, N+K-1):\n",
        "    for c2 in range(c1+1, N+K-1):\n",
        "      for c3 in range(c2+1, N+K-1):\n",
        "        for c4 in range(c3+1, N+K-1):\n",
        "          for c5 in range(c4+1, N+K-1):\n",
        "            for c6 in range(c5+1, N+K-1):\n",
        "              for c7 in range(c6+1, N+K-1):\n",
        "                b_count += 1\n",
        "                Ns = [0, 0, 0, 0, 0, 0, 0, 0, 0, 0]\n",
        "                Ns[c0-0] += 1\n",
        "                Ns[c1-1] += 1\n",
        "                Ns[c2-2] += 1\n",
        "                Ns[c3-3] += 1\n",
        "                Ns[c4-4] += 1\n",
        "                Ns[c5-5] += 1\n",
        "                Ns[c6-6] += 1\n",
        "                Ns[c7-7] += 1\n",
        "                p_y = f(K) / (N**K) / (f(Ns[0])*f(Ns[1])*f(Ns[2])*f(Ns[3])*f(Ns[4])*f(Ns[5])*f(Ns[6])*f(Ns[7])*f(Ns[8])*f(Ns[9]))\n",
        "                P_ys.append(p_y)\n",
        "                H_y += -p_y * math.log2(p_y)\n",
        "\n",
        "print(len(P_ys))\n",
        "print(sum(P_ys))\n",
        "print(b_count)\n",
        "print('B', B)\n",
        "print(math.log2(B))\n",
        "print('H_y', H_y)\n",
        "print(2**H_y)"
      ],
      "metadata": {
        "colab": {
          "base_uri": "https://localhost:8080/"
        },
        "id": "7qZfigBQGzVQ",
        "outputId": "1d0a0bbf-fdb0-4fc7-aee6-2248cb12cd81"
      },
      "execution_count": null,
      "outputs": [
        {
          "output_type": "stream",
          "name": "stdout",
          "text": [
            "24310\n",
            "1.0000000000001252\n",
            "24310\n",
            "B 24310\n",
            "14.569262272916092\n",
            "H_y 13.860045564098357\n",
            "14869.263443691536\n"
          ]
        }
      ]
    },
    {
      "cell_type": "code",
      "source": [
        "# calculate H(B|S=s)\n",
        "U_range = np.arange(1, 6252, 1250)\n",
        "# U_range = np.arange(1, B, 3000)\n",
        "H_ss = np.zeros_like(U_range).astype(float)\n",
        "\n",
        "for i, U in enumerate(U_range):\n",
        "  H_s = 0\n",
        "  p_s = 0\n",
        "  choices = np.random.choice(B, U, p=P_ys)\n",
        "  # print(len(choices), choices)\n",
        "  for u in range(U):\n",
        "    p_s = sum([1 for c in choices if c == u]) / U\n",
        "    # print(p_s)\n",
        "    if p_s != 0:\n",
        "      H_s += -p_s * math.log2(p_s)\n",
        "  print('U:', U, 'H_s:', H_s)\n",
        "  H_ss[i] = H_s\n",
        "\n",
        "print('H_ss', H_ss)"
      ],
      "metadata": {
        "colab": {
          "base_uri": "https://localhost:8080/"
        },
        "id": "ePqcA5Ua7aZk",
        "outputId": "7f86a441-d4ff-4127-8e16-58b339d148b9"
      },
      "execution_count": null,
      "outputs": [
        {
          "output_type": "stream",
          "name": "stdout",
          "text": [
            "U: 1 H_s: 0\n",
            "U: 1251 H_s: 0.19578959694642661\n",
            "U: 2501 H_s: 0.527494304228384\n",
            "U: 3751 H_s: 1.6176505965077759\n",
            "U: 5001 H_s: 2.240630027446816\n",
            "U: 6251 H_s: 3.09074958685801\n",
            "H_ss [0.         0.1957896  0.5274943  1.6176506  2.24063003 3.09074959]\n"
          ]
        }
      ]
    },
    {
      "cell_type": "code",
      "source": [
        "H_ss = np.array([ 0.,          1.14445591,  2.92142532,  5.66463935,  7.32508148,  8.84656221, 10.8259317,  12.2532801,  13.15547667])\n",
        "H_y = 13.860045564098357\n",
        "plt.plot(np.arange(9)*6250/9, H_y-H_ss)\n",
        "# H_ss = np.array([ 0., 0.1891638,  0.78579461, 1.54249295, 2.22972449, 3.19595329])\n",
        "# H_y = 13.860045564098357\n",
        "# plt.plot(np.arange(6)*6250/6, H_y-H_ss)\n",
        "plt.xlabel('Number of clients')\n",
        "plt.ylabel('Privacy leakage (in bits)')\n",
        "plt.show()"
      ],
      "metadata": {
        "colab": {
          "base_uri": "https://localhost:8080/",
          "height": 279
        },
        "id": "bbZ_N7hK87yL",
        "outputId": "b63f85ad-1ffd-4ae2-ab25-3659484863df"
      },
      "execution_count": null,
      "outputs": [
        {
          "output_type": "display_data",
          "data": {
            "text/plain": [
              "<Figure size 432x288 with 1 Axes>"
            ],
            "image/png": "[encoded data removed]"
          },
          "metadata": {
            "needs_background": "light"
          }
        }
      ]
    },
    {
      "cell_type": "markdown",
      "source": [
        "# Fixed UK=50000"
      ],
      "metadata": {
        "id": "2eQs7BvRBM9Z"
      }
    },
    {
      "cell_type": "code",
      "source": [
        "UK = 50000  # 50000\n",
        "N = 10\n",
        "\n",
        "for K in [9]:  # [8]\n",
        "  U = int(UK / K)\n",
        "  B = f(N+K-1) // f(K) // f(N-1)\n",
        "  print(\"K, U, B:\", K, U, B)\n",
        "\n",
        "  # calculate H(B|Y=y), y is uniform\n",
        "  p_y = 0\n",
        "  P_ys = []\n",
        "  b_count = 0\n",
        "  H_y = 0\n",
        "  for comb in itertools.combinations(np.arange(N+K-1), N-1):\n",
        "    b_count += 1\n",
        "    p_y = f(K) / (N**K) / f(comb[0]) / f(N+K-2-comb[-1])\n",
        "    for n in range(1, N-1):\n",
        "      p_y = p_y / f(comb[n]-comb[n-1]-1)\n",
        "    P_ys.append(p_y)\n",
        "    H_y += -p_y * math.log2(p_y)\n",
        "\n",
        "  # print('len(P_ys)', len(P_ys))\n",
        "  # print('sum(P_ys)', sum(P_ys))\n",
        "  # print('b_count', b_count)\n",
        "  # print('B', B)\n",
        "  # print('math.log2(B)', math.log2(B))\n",
        "  print('H_y', H_y)\n",
        "  # print('2**H_y', 2**H_y)\n",
        "\n",
        "  # calculate H(B|S=s)\n",
        "  H_s = 0\n",
        "  p_s = 0\n",
        "  choices = np.random.choice(B, U, p=P_ys)\n",
        "  # print(len(choices), choices)\n",
        "  start_time = time.time()\n",
        "  for u in range(U):\n",
        "    if u%10000==0:\n",
        "      end_time = time.time()\n",
        "      print('u:', u, '/', U, ', H_s:', H_s, ', time:', round((end_time-start_time)/60))\n",
        "    p_s = sum([1 for c in choices if c == u]) / U\n",
        "    # print(p_s)\n",
        "    if p_s != 0:\n",
        "      H_s += -p_s * math.log2(p_s)\n",
        "  print('H_s', H_s)"
      ],
      "metadata": {
        "id": "I26xJAKI87vq",
        "colab": {
          "base_uri": "https://localhost:8080/"
        },
        "outputId": "abc10e1d-2476-4108-f9ad-883f2e6fbaca"
      },
      "execution_count": null,
      "outputs": [
        {
          "output_type": "stream",
          "name": "stdout",
          "text": [
            "K, U, B: 9 5555 48620\n",
            "H_y 14.7084540600815\n",
            "u: 0 / 5555 , H_s: 0 , time: 0\n",
            "H_s 0.5174473607079045\n"
          ]
        }
      ]
    },
    {
      "cell_type": "code",
      "source": [
        "Ks = [1, 2, 4, 6, 7, 8, 9, 10, 16]\n",
        "Ks_H_y = [3.321928, 5.743856, 9.286393, 11.8602849, 12.91726, 13.860046, 14.708454, 15.4776598, 18.95812]\n",
        "K_s_H_s_UK100000 = [3.321874, 5.74309, 9.25941, 11.64429, 12.33949, 5.448149, 1.7305256, 0.505497, 0]\n",
        "K_s_H_s_UK50000 = [3.321928, 5.738995, 9.2478531, 11.399456, 6.4285309, 1.970087, 0.517447, 0.17900, 0]\n",
        "K_s_H_s_UK5000 = [3.318592, 5.73230, 8.81008, 1.091727, 0.146047, 0.056241, 0, 0, 0]\n",
        "\n",
        "# plt.plot(Ks, Ks_H_y, label='$\\mathregular{H^a(B|Y=y_0)}$')\n",
        "# plt.plot(Ks, K_s_H_s_UK5000, label='$\\mathregular{H^a(B|S=s), UK=5000}$')\n",
        "# plt.plot(Ks, K_s_H_s_UK50000, label='$\\mathregular{H^a(B|S=s), UK=50000}$')\n",
        "# plt.plot(Ks, K_s_H_s_UK100000, label='$\\mathregular{H^a(B|S=s), UK=100000}$')\n",
        "plt.plot(Ks, Ks_H_y, label='$\\mathregular{H^a(B|P_{y,uni})}$')\n",
        "plt.plot(Ks, K_s_H_s_UK5000, label='$\\mathregular{H^a(B|\\mathcal{C}_U=c_U), UK=5000}$')\n",
        "plt.plot(Ks, K_s_H_s_UK50000, label='$\\mathregular{H^a(B|\\mathcal{C}_U=c_U), UK=50000}$')\n",
        "plt.plot(Ks, K_s_H_s_UK100000, label='$\\mathregular{H^a(B|\\mathcal{C}_U=c_U), UK=100000}$')\n",
        "plt.xlabel('Number of samples K from each client')\n",
        "plt.ylabel('Lable Privacy information (in bits)')\n",
        "plt.legend()\n",
        "plt.show()"
      ],
      "metadata": {
        "id": "befatQox87ql",
        "colab": {
          "base_uri": "https://localhost:8080/",
          "height": 279
        },
        "outputId": "b202ec23-d599-42a4-a941-0ee1804dbff2"
      },
      "execution_count": null,
      "outputs": [
        {
          "output_type": "display_data",
          "data": {
            "text/plain": [
              "<Figure size 432x288 with 1 Axes>"
            ],
            "image/png": "[encoded data removed]"
          },
          "metadata": {
            "needs_background": "light"
          }
        }
      ]
    },
    {
      "cell_type": "markdown",
      "source": [
        "# Dry bean"
      ],
      "metadata": {
        "id": "DP0fdL00-wYq"
      }
    },
    {
      "cell_type": "code",
      "execution_count": null,
      "metadata": {
        "id": "xBPJ8vmAEiJQ"
      },
      "outputs": [],
      "source": [
        "K = 4\n",
        "N = 4\n",
        "B = f(N+K-1) // f(K) // f(N-1)"
      ]
    },
    {
      "cell_type": "code",
      "source": [
        "# calculate H(B|Y=y), y is uniform\n",
        "p_y = 0\n",
        "P_ys = []\n",
        "b_count = 0\n",
        "H_y = 0\n",
        "\n",
        "for c0 in range(0, N+K-1):\n",
        "  for c1 in range(c0+1, N+K-1):\n",
        "    for c2 in range(c1+1, N+K-1):\n",
        "      for c3 in range(c2+1, N+K-1):\n",
        "          b_count += 1\n",
        "          Ns = [0, 0, 0, 0, 0, 0]\n",
        "          Ns[c0-0] += 1\n",
        "          Ns[c1-1] += 1\n",
        "          Ns[c2-2] += 1\n",
        "          Ns[c3-3] += 1\n",
        "          p_y = f(K) / (N**K) / (f(Ns[0])*f(Ns[1])*f(Ns[2])*f(Ns[3])*f(Ns[4])*f(Ns[5]))\n",
        "          P_ys.append(p_y)\n",
        "          H_y += -p_y * math.log2(p_y)\n",
        "\n",
        "# print(sum(P_ys))\n",
        "# print(b_count)\n",
        "print('B', B)\n",
        "print(math.log2(B))\n",
        "print('H_y', H_y)\n",
        "print(2**H_y)"
      ],
      "metadata": {
        "colab": {
          "base_uri": "https://localhost:8080/"
        },
        "outputId": "7c0c2d06-1666-4b67-8c66-130dfece1472",
        "id": "ObFHHIEsEiJa"
      },
      "execution_count": null,
      "outputs": [
        {
          "output_type": "stream",
          "name": "stdout",
          "text": [
            "B 35\n",
            "5.129283016944966\n",
            "H_y 4.81510800723783\n",
            "28.150877863635262\n"
          ]
        }
      ]
    },
    {
      "cell_type": "code",
      "source": [
        "# calculate H(B|S=s)\n",
        "U_range = np.arange(1, 1176, 110)\n",
        "# U_range = np.arange(1, B, 3000)\n",
        "H_ss = np.zeros_like(U_range).astype(float)\n",
        "\n",
        "for i, U in enumerate(U_range):\n",
        "  H_s = 0\n",
        "  p_s = 0\n",
        "  choices = np.random.choice(B, U, p=P_ys)\n",
        "  # print(len(choices), choices)\n",
        "  for u in range(U):\n",
        "    p_s = sum([1 for c in choices if c == u]) / U\n",
        "    # print(p_s)\n",
        "    if p_s != 0:\n",
        "      H_s += -p_s * math.log2(p_s)\n",
        "  print(H_s)\n",
        "  H_ss[i] = H_s\n",
        "\n",
        "print('H_ss', H_ss)"
      ],
      "metadata": {
        "colab": {
          "base_uri": "https://localhost:8080/"
        },
        "outputId": "d4fe9fbc-70dd-4ccb-9947-13b5786c4743",
        "id": "z8SJ6CCVEiJb"
      },
      "execution_count": null,
      "outputs": [
        {
          "output_type": "stream",
          "name": "stdout",
          "text": [
            "0\n",
            "4.488025774313082\n",
            "4.702617634802406\n",
            "4.802929804553897\n",
            "4.750954940629122\n",
            "4.744101917925756\n",
            "4.8117979838104485\n",
            "4.768437327163887\n",
            "4.815896365695055\n",
            "4.789852490143935\n",
            "4.782352207555449\n",
            "H_ss [0.         4.48802577 4.70261763 4.8029298  4.75095494 4.74410192\n",
            " 4.81179798 4.76843733 4.81589637 4.78985249 4.78235221]\n"
          ]
        }
      ]
    },
    {
      "cell_type": "code",
      "source": [
        "H_ss = np.array([0., 4.48802577, 4.70261763, 4.8029298, 4.75095494, 4.74410192, 4.81179798, 4.76843733, 4.81589637, 4.78985249, 4.78235221])\n",
        "H_y = 4.81510800723783\n",
        "plt.plot(np.arange(11)*1176/11, H_y-H_ss)\n",
        "plt.xlabel('Number of clients')\n",
        "plt.ylabel('Privacy leakage (in bits)')\n",
        "plt.show()"
      ],
      "metadata": {
        "colab": {
          "base_uri": "https://localhost:8080/",
          "height": 281
        },
        "outputId": "c9ab6df1-93a5-481a-a404-dfc8767a4395",
        "id": "7YxzWs4OEiJb"
      },
      "execution_count": null,
      "outputs": [
        {
          "output_type": "display_data",
          "data": {
            "text/plain": [
              "<Figure size 432x288 with 1 Axes>"
            ],
            "image/png": "[encoded data removed]"
          },
          "metadata": {
            "needs_background": "light"
          }
        }
      ]
    }
  ]
}